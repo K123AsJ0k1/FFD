{
 "cells": [
  {
   "cell_type": "markdown",
   "id": "60f84393-98d8-4928-bfd3-946134db87ec",
   "metadata": {},
   "source": [
    "# Central and Worker "
   ]
  },
  {
   "cell_type": "markdown",
   "id": "56693fe6-164d-43d0-becb-a1b0e3762b01",
   "metadata": {},
   "source": [
    "This notebook goes over the necessery code for central and worker federated learning agents, which have their own machine learning pipelines that enable the following incremental actions:\n",
    "1. Global model initilization in central\n",
    "2. Sending initial model to workers\n",
    "3. Training a new model in workers\n",
    "4. Returning model updates to central\n",
    "5. Aggregating updates into a global model\n",
    "6. Repeating steps 2 to 4 until model converges\n",
    "\n",
    "In this project we will use the [Synthetic Financial Datasets For Fraud Detection](https://www.kaggle.com/datasets/ealaxi/paysim1/data) to simulate a fraud detection infrastucture, where the central node is controlled by the trade organization and worker nodes are different banks that belong to that organisation where the trade organisation decides to use federated learning to facilitate a adapting, robust and private fraud detection system for their partners.The import we will use in this notebook are the following:\n",
    "\n",
    "- Pandas\n",
    "- Numpy\n",
    "- Scikit-learn"
   ]
  },
  {
   "cell_type": "code",
   "execution_count": null,
   "id": "792434d7-8475-45a2-805c-0618e8b4ffd2",
   "metadata": {},
   "outputs": [],
   "source": [
    "import pandas as pd\n",
    "import numpy as np\n",
    "\n",
    "from sklearn.model_selection import RandomizedSearchCV\n",
    "from sklearn.ensemble import RandomForestRegressor\n",
    "\n",
    "from sklearn.preprocessing import StandardScaler\n",
    "from sklearn.preprocessing import LabelEncoder\n",
    "from sklearn.neural_network import MLPClassifier\n",
    "\n",
    "from sklearn.metrics import r2_score\n",
    "from sklearn.metrics import accuracy_score\n",
    "from sklearn.model_selection import train_test_split"
   ]
  },
  {
   "cell_type": "code",
   "execution_count": null,
   "id": "c96556a9-52d2-4f62-be2d-4bd859ee6889",
   "metadata": {},
   "outputs": [],
   "source": [
    "source_data_df = pd.read_csv('data/Fraud_Detection.csv')"
   ]
  },
  {
   "cell_type": "code",
   "execution_count": null,
   "id": "4dbd8f72-cc5b-4595-a851-1de6525a070d",
   "metadata": {},
   "outputs": [],
   "source": [
    "source_data_df"
   ]
  },
  {
   "cell_type": "markdown",
   "id": "a4d6a03b-08c7-492b-957e-fe5e736b9bdb",
   "metadata": {},
   "source": [
    "## Formatting"
   ]
  },
  {
   "cell_type": "markdown",
   "id": "df1467d6-eb8d-4daa-a2a1-60ee7152fa90",
   "metadata": {},
   "source": [
    "The columns are:\n",
    "- Row index = The amount of logs\n",
    "- Step = One hour in the real world \n",
    "- Type = Transaction type: CASH-IN, CASH-OUT, DEBIT, PAYMENT and TRANSFER\n",
    "- Amount = Unit of local currency\n",
    "- NameOrig = Customer who started the transaction\n",
    "- OldbalanceOrig = Initial balance before the transaction\n",
    "- NewbalanceOrig = New balance after the transaction\n",
    "- NameDest = Customer who is the recipient of the transaction\n",
    "- oldbalanceDest = Initial balance recipient before the transaction.\n",
    "- NewbalanceDest = New balance recipient after the transaction\n",
    "- IsFraud = The transactions made by the fraudulent agents.\n",
    "- IsFlaggedFraud = Existing detection, where more than 200.000 transcations are flagged\n",
    "\n",
    "In order to simulate fraud detection, we need to remove the following columns:\n",
    "- OldbalanceOrg\n",
    "- NewbalanceOrig\n",
    "- OldbalanceDest\n",
    "- NewbalanceDest\n",
    "- IsFlaggedFraud (Should be used for comparison, but not for training a model)\n",
    "\n",
    "After that, we need to modify the following columns:\n",
    "- type = Requires hot one encoding using integers\n",
    "- nameOrig = requires string integer encoding\n",
    "- nameDest = requires string integer encoding\n",
    "- amount = round up"
   ]
  },
  {
   "cell_type": "code",
   "execution_count": null,
   "id": "32237856-ed62-455a-b977-b914efd85e95",
   "metadata": {},
   "outputs": [],
   "source": [
    "irrelevant_columns = [\n",
    "    \"oldbalanceOrg\",\n",
    "    \"newbalanceOrig\",\n",
    "    \"oldbalanceDest\",\n",
    "    \"newbalanceDest\",\n",
    "    \"isFlaggedFraud\"\n",
    "]\n",
    "\n",
    "formated_data_df = source_data_df.copy()\n",
    "# Removing irrelevant columns\n",
    "formated_data_df.drop(\n",
    "    columns = irrelevant_columns, \n",
    "    inplace = True\n",
    ")\n",
    "# Hot one encoding type\n",
    "formated_data_df = pd.get_dummies(\n",
    "    data = formated_data_df, \n",
    "    columns = ['type']\n",
    ")\n",
    "# Chancing bool columns into integers\n",
    "for column in formated_data_df.columns:\n",
    "    if 'type' in column:\n",
    "        formated_data_df[column] = formated_data_df[column].astype(int)"
   ]
  },
  {
   "cell_type": "code",
   "execution_count": null,
   "id": "c4eb1747-5606-4228-a237-a8500e68d34e",
   "metadata": {},
   "outputs": [],
   "source": [
    "formated_data_df"
   ]
  },
  {
   "cell_type": "code",
   "execution_count": null,
   "id": "15e4dcca-12e9-485b-a2c9-2cdf6fbdf5ed",
   "metadata": {},
   "outputs": [],
   "source": [
    "# Getting all unique strings in nameOrig\n",
    "unique_values_orig = formated_data_df['nameOrig'].unique()\n",
    "unique_value_list_orig = unique_values_orig.tolist()\n",
    "# Getting all unique strings in nameDest\n",
    "unique_values_dest = formated_data_df['nameDest'].unique()\n",
    "unique_value_list_dest = unique_values_dest.tolist()"
   ]
  },
  {
   "cell_type": "code",
   "execution_count": null,
   "id": "9cfefd29-c893-4d5c-b7f0-a15ac618f8c3",
   "metadata": {},
   "outputs": [],
   "source": [
    "print(len(unique_value_list_orig))\n",
    "print(len(unique_value_list_dest))"
   ]
  },
  {
   "cell_type": "code",
   "execution_count": null,
   "id": "6c120d38-e2fc-4e9f-a13a-f2e1c6dc33a2",
   "metadata": {},
   "outputs": [],
   "source": [
    "# Checking if there is similar strings between orig and dest\n",
    "set_orig_ids = set(unique_value_list_orig)\n",
    "set_dest_ids = set(unique_value_list_dest)\n",
    "intersection = set_dest_ids.intersection(set_orig_ids)"
   ]
  },
  {
   "cell_type": "code",
   "execution_count": null,
   "id": "0437de50-2f0f-4cff-8e62-851766d00a18",
   "metadata": {},
   "outputs": [],
   "source": [
    "len(intersection)"
   ]
  },
  {
   "cell_type": "code",
   "execution_count": null,
   "id": "36800943-0bcd-4447-a2cb-da8141ed15e6",
   "metadata": {},
   "outputs": [],
   "source": [
    "# Removing cross over strings and creating a new list\n",
    "set_dest_ids.difference_update(intersection)\n",
    "fixed_unique_value_list_dest = list(set_dest_ids)"
   ]
  },
  {
   "cell_type": "code",
   "execution_count": null,
   "id": "126b94d8-bff5-42d0-85ca-0e8a3a60f194",
   "metadata": {},
   "outputs": [],
   "source": [
    "# Index encoding all orig strings\n",
    "orig_encoding_dict = {}\n",
    "index = 1\n",
    "for string in unique_value_list_orig:\n",
    "    if not string in orig_encoding_dict:\n",
    "        orig_encoding_dict[string] = index\n",
    "        index = index + 1"
   ]
  },
  {
   "cell_type": "code",
   "execution_count": null,
   "id": "27a21818-0aaf-43be-be85-c3c85a1e2564",
   "metadata": {},
   "outputs": [],
   "source": [
    "len(orig_encoding_dict)"
   ]
  },
  {
   "cell_type": "code",
   "execution_count": null,
   "id": "5ca36991-a4f9-409c-8202-1aab8fae372b",
   "metadata": {},
   "outputs": [],
   "source": [
    "# Index encoding all dist strings\n",
    "dest_encoding_dict = {}\n",
    "cont_index = len(orig_encoding_dict) + 1\n",
    "for string in fixed_unique_value_list_dest:\n",
    "    if not string in dest_encoding_dict:\n",
    "        dest_encoding_dict[string] = cont_index\n",
    "        cont_index = cont_index + 1"
   ]
  },
  {
   "cell_type": "code",
   "execution_count": null,
   "id": "ae7eef28-09db-45a5-886e-0df03bd34e56",
   "metadata": {},
   "outputs": [],
   "source": [
    "len(dest_encoding_dict)"
   ]
  },
  {
   "cell_type": "code",
   "execution_count": null,
   "id": "b7b57940-23b0-4bce-b967-4a8dc55c95ea",
   "metadata": {},
   "outputs": [],
   "source": [
    "len(orig_encoding_dict) + len(dest_encoding_dict)"
   ]
  },
  {
   "cell_type": "code",
   "execution_count": null,
   "id": "83434b1e-fb5c-484e-96bf-d1b221d19c82",
   "metadata": {},
   "outputs": [],
   "source": [
    "string_orig_values = formated_data_df['nameOrig'].tolist()\n",
    "string_dest_values = formated_data_df['nameDest'].tolist()"
   ]
  },
  {
   "cell_type": "code",
   "execution_count": null,
   "id": "f3496d29-13f6-4422-829a-6065b9fe4329",
   "metadata": {},
   "outputs": [],
   "source": [
    "orig_encoded_values = []\n",
    "for string in string_orig_values:\n",
    "    orig_encoded_values.append(orig_encoding_dict[string])"
   ]
  },
  {
   "cell_type": "code",
   "execution_count": null,
   "id": "ab0de88c-77b9-4a17-8c31-77d38600f2aa",
   "metadata": {},
   "outputs": [],
   "source": [
    "len(orig_encoded_values)"
   ]
  },
  {
   "cell_type": "code",
   "execution_count": null,
   "id": "4838c607-2ea8-42cc-b9b4-8d722851a7b4",
   "metadata": {},
   "outputs": [],
   "source": [
    "dest_encoded_values = []\n",
    "for string in string_dest_values:\n",
    "    if not string in dest_encoding_dict:\n",
    "        dest_encoded_values.append(orig_encoding_dict[string])\n",
    "        continue\n",
    "    dest_encoded_values.append(dest_encoding_dict[string])"
   ]
  },
  {
   "cell_type": "code",
   "execution_count": null,
   "id": "7fce5601-7890-47d5-a075-4aeec60202fd",
   "metadata": {},
   "outputs": [],
   "source": [
    "len(dest_encoded_values)"
   ]
  },
  {
   "cell_type": "code",
   "execution_count": null,
   "id": "16a701f8-3f91-49d6-97d1-29481a5b0e4f",
   "metadata": {},
   "outputs": [],
   "source": [
    "formated_data_df['nameOrig'] = orig_encoded_values\n",
    "formated_data_df['nameDest'] = dest_encoded_values"
   ]
  },
  {
   "cell_type": "code",
   "execution_count": null,
   "id": "a73f1192-4619-48c4-85e5-b9bd6128f963",
   "metadata": {},
   "outputs": [],
   "source": [
    "formated_data_df"
   ]
  },
  {
   "cell_type": "code",
   "execution_count": null,
   "id": "49ebbcd4-bbff-4f63-8e73-e2f04d6757f9",
   "metadata": {},
   "outputs": [],
   "source": [
    "formated_data_df['amount'] = formated_data_df['amount'].round(0).astype(int)"
   ]
  },
  {
   "cell_type": "code",
   "execution_count": null,
   "id": "783d438c-f88d-429f-a132-3c5d9b44240e",
   "metadata": {},
   "outputs": [],
   "source": [
    "formated_data_df"
   ]
  },
  {
   "cell_type": "code",
   "execution_count": null,
   "id": "ddf7a9c7-49c4-48d8-9693-de6035ab5ef9",
   "metadata": {},
   "outputs": [],
   "source": [
    "column_order = [\n",
    "    'step',\n",
    "    'amount',\n",
    "    'nameOrig',\n",
    "    'nameDest',\n",
    "    'type_CASH_IN',\n",
    "    'type_CASH_OUT',\n",
    "    'type_DEBIT',\n",
    "    'type_PAYMENT',\n",
    "    'type_TRANSFER',\n",
    "    'isFraud'\n",
    "]\n",
    "formated_data_df = formated_data_df[column_order]"
   ]
  },
  {
   "cell_type": "code",
   "execution_count": null,
   "id": "37b66c66-5fe9-4569-b05a-70dd5c8cc740",
   "metadata": {},
   "outputs": [],
   "source": [
    "formated_data_df"
   ]
  },
  {
   "cell_type": "code",
   "execution_count": null,
   "id": "bc021361-c520-4751-8110-bc833af2a03d",
   "metadata": {},
   "outputs": [],
   "source": [
    "formated_data_df.to_csv('data/Formated_Fraud_Detection_Data.csv', index = True)"
   ]
  }
 ],
 "metadata": {
  "kernelspec": {
   "display_name": "Python 3 (ipykernel)",
   "language": "python",
   "name": "python3"
  },
  "language_info": {
   "codemirror_mode": {
    "name": "ipython",
    "version": 3
   },
   "file_extension": ".py",
   "mimetype": "text/x-python",
   "name": "python",
   "nbconvert_exporter": "python",
   "pygments_lexer": "ipython3",
   "version": "3.10.12"
  }
 },
 "nbformat": 4,
 "nbformat_minor": 5
}
