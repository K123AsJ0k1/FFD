{
 "cells": [
  {
   "cell_type": "markdown",
   "id": "60f84393-98d8-4928-bfd3-946134db87ec",
   "metadata": {},
   "source": [
    "# Central and Worker "
   ]
  },
  {
   "cell_type": "markdown",
   "id": "56693fe6-164d-43d0-becb-a1b0e3762b01",
   "metadata": {},
   "source": [
    "This notebook goes over the necessery code for central and worker federated learning agents, which have their own machine learning pipelines that enable the following incremental actions:\n",
    "1. Global model initilization in central\n",
    "2. Sending initial model to workers\n",
    "3. Training a new model in workers\n",
    "4. Returning model updates to central\n",
    "5. Aggregating updates into a global model\n",
    "6. Repeating steps 2 to 4 until model converges\n",
    "\n",
    "In this project we will use the [Synthetic Financial Datasets For Fraud Detection](https://www.kaggle.com/datasets/ealaxi/paysim1/data) to simulate a fraud detection infrastucture, where the central node is controlled by the trade organization and worker nodes are different banks that belong to that organisation where the trade organisation decides to use federated learning to facilitate a adapting, robust and private fraud detection system for their partners.The import we will use in this notebook are the following:\n",
    "\n",
    "- Pandas\n",
    "- Numpy\n",
    "- Scikit-learn"
   ]
  },
  {
   "cell_type": "code",
   "execution_count": null,
   "id": "792434d7-8475-45a2-805c-0618e8b4ffd2",
   "metadata": {},
   "outputs": [],
   "source": [
    "import pandas as pd\n",
    "import numpy as np\n",
    "\n",
    "from sklearn.model_selection import RandomizedSearchCV\n",
    "from sklearn.ensemble import RandomForestRegressor\n",
    "\n",
    "from sklearn.preprocessing import StandardScaler\n",
    "from sklearn.preprocessing import LabelEncoder\n",
    "from sklearn.neural_network import MLPClassifier\n",
    "\n",
    "from sklearn.metrics import r2_score\n",
    "from sklearn.metrics import accuracy_score\n",
    "from sklearn.model_selection import train_test_split"
   ]
  },
  {
   "cell_type": "code",
   "execution_count": null,
   "id": "c96556a9-52d2-4f62-be2d-4bd859ee6889",
   "metadata": {},
   "outputs": [],
   "source": [
    "source_data_df = pd.read_csv('data/Fraud_Detection.csv')"
   ]
  },
  {
   "cell_type": "code",
   "execution_count": null,
   "id": "4dbd8f72-cc5b-4595-a851-1de6525a070d",
   "metadata": {},
   "outputs": [],
   "source": [
    "source_data_df"
   ]
  },
  {
   "cell_type": "markdown",
   "id": "a4d6a03b-08c7-492b-957e-fe5e736b9bdb",
   "metadata": {},
   "source": [
    "## Formatting"
   ]
  },
  {
   "cell_type": "markdown",
   "id": "df1467d6-eb8d-4daa-a2a1-60ee7152fa90",
   "metadata": {},
   "source": [
    "The columns are:\n",
    "- Row index = The amount of logs\n",
    "- Step = One hour in the real world \n",
    "- Type = Transaction type: CASH-IN, CASH-OUT, DEBIT, PAYMENT and TRANSFER\n",
    "- Amount = Unit of local currency\n",
    "- NameOrig = Customer who started the transaction\n",
    "- OldbalanceOrig = Initial balance before the transaction\n",
    "- NewbalanceOrig = New balance after the transaction\n",
    "- NameDest = Customer who is the recipient of the transaction\n",
    "- oldbalanceDest = Initial balance recipient before the transaction.\n",
    "- NewbalanceDest = New balance recipient after the transaction\n",
    "- IsFraud = The transactions made by the fraudulent agents.\n",
    "- IsFlaggedFraud = Existing detection, where more than 200.000 transcations are flagged\n",
    "\n",
    "In order to simulate fraud detection, we need to remove the following columns:\n",
    "- OldbalanceOrg\n",
    "- NewbalanceOrig\n",
    "- OldbalanceDest\n",
    "- NewbalanceDest\n",
    "- IsFlaggedFraud (Should be used for comparison, but not for training a model)\n",
    "\n",
    "After that, we need to modify the following columns:\n",
    "- type = Requires hot one encoding using integers\n",
    "- nameOrig = requires string integer encoding\n",
    "- nameDest = requires string integer encoding\n",
    "- amount = round up"
   ]
  },
  {
   "cell_type": "code",
   "execution_count": null,
   "id": "32237856-ed62-455a-b977-b914efd85e95",
   "metadata": {},
   "outputs": [],
   "source": []
  }
 ],
 "metadata": {
  "kernelspec": {
   "display_name": "Python 3 (ipykernel)",
   "language": "python",
   "name": "python3"
  },
  "language_info": {
   "codemirror_mode": {
    "name": "ipython",
    "version": 3
   },
   "file_extension": ".py",
   "mimetype": "text/x-python",
   "name": "python",
   "nbconvert_exporter": "python",
   "pygments_lexer": "ipython3",
   "version": "3.10.12"
  }
 },
 "nbformat": 4,
 "nbformat_minor": 5
}
