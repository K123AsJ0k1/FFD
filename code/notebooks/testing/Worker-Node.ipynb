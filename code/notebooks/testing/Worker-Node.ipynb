{
 "cells": [
  {
   "cell_type": "markdown",
   "id": "3afed6b6-2f49-4eda-9d17-ab537c3c97ab",
   "metadata": {},
   "source": [
    "# Worker Node Testing\n",
    "\n",
    "This notebook shows the functions of the worker node made for the FFD project"
   ]
  },
  {
   "cell_type": "code",
   "execution_count": 1,
   "id": "e5e55eb8-164d-473f-a3dc-44d722d194e6",
   "metadata": {},
   "outputs": [],
   "source": [
    "import requests"
   ]
  },
  {
   "cell_type": "code",
   "execution_count": 3,
   "id": "89652826-1bfb-45be-96fd-9f1a59afbdb9",
   "metadata": {},
   "outputs": [
    {
     "name": "stdout",
     "output_type": "stream",
     "text": [
      "200\n"
     ]
    }
   ],
   "source": [
    "response = requests.get(\n",
    "    url = 'http://127.0.0.1:7500/demo'\n",
    ")\n",
    "\n",
    "print(response.status_code)"
   ]
  },
  {
   "cell_type": "code",
   "execution_count": null,
   "id": "f09a6599-e169-43d1-a122-979a72fe3b7e",
   "metadata": {},
   "outputs": [],
   "source": []
  }
 ],
 "metadata": {
  "kernelspec": {
   "display_name": "Python 3 (ipykernel)",
   "language": "python",
   "name": "python3"
  },
  "language_info": {
   "codemirror_mode": {
    "name": "ipython",
    "version": 3
   },
   "file_extension": ".py",
   "mimetype": "text/x-python",
   "name": "python",
   "nbconvert_exporter": "python",
   "pygments_lexer": "ipython3",
   "version": "3.10.12"
  }
 },
 "nbformat": 4,
 "nbformat_minor": 5
}
